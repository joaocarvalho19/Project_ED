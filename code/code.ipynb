{
 "cells": [
  {
   "cell_type": "code",
   "execution_count": 1,
   "id": "ca828e00",
   "metadata": {},
   "outputs": [],
   "source": [
    "#numeric: pandas and numpy\n",
    "import numpy as np\n",
    "import pandas as pd\n",
    "# graphics\n",
    "%matplotlib inline \n",
    "\n",
    "import matplotlib.pyplot as plt \n",
    "import matplotlib.gridspec as gridspec \n",
    "import seaborn as sns\n",
    "\n",
    "from sklearn import linear_model, svm, preprocessing, tree\n",
    "from sklearn.preprocessing import StandardScaler\n",
    "from sklearn.model_selection import train_test_split\n",
    "from sklearn.neighbors import KNeighborsClassifier\n",
    "from sklearn.ensemble import RandomForestClassifier\n",
    "from sklearn.feature_selection import SelectKBest, f_classif\n",
    "from sklearn.model_selection import StratifiedKFold\n",
    "from sklearn.metrics import accuracy_score, confusion_matrix, plot_confusion_matrix, classification_report, f1_score\n",
    "from matplotlib.colors import ListedColormap"
   ]
  },
  {
   "cell_type": "code",
   "execution_count": 2,
   "id": "8669676e",
   "metadata": {},
   "outputs": [
    {
     "name": "stdout",
     "output_type": "stream",
     "text": [
      "Number of Features:  90\n"
     ]
    },
    {
     "data": {
      "text/plain": [
       "acc_xs_mean         0\n",
       "acc_ys_mean         0\n",
       "acc_zs_mean         0\n",
       "acc_xs_var          0\n",
       "acc_ys_var          0\n",
       "                   ..\n",
       "gps_speed_iqr       0\n",
       "gps_bearing_iqr     0\n",
       "gps_accuracy_iqr    0\n",
       "activity_id         0\n",
       "activity            0\n",
       "Length: 92, dtype: int64"
      ]
     },
     "execution_count": 2,
     "metadata": {},
     "output_type": "execute_result"
    }
   ],
   "source": [
    "df = pd.read_csv('data/sensoringData_feature_prepared_20_19.0_2.csv',header = 0)\n",
    "\n",
    "# remove useless collumns\n",
    "df.drop('id',axis=1,inplace=True)\n",
    "df.drop('user',axis=1,inplace=True)\n",
    "df.drop('timestamp',axis=1,inplace=True)\n",
    "\n",
    "feature_list = list(df.columns[:-2])\n",
    "print(\"Number of Features: \",len(feature_list))\n",
    "#print(df.head())\n",
    "\n",
    "# print the number of missing values\n",
    "df.isnull().sum()"
   ]
  },
  {
   "cell_type": "code",
   "execution_count": 3,
   "id": "9c5d8ec2",
   "metadata": {},
   "outputs": [
    {
     "name": "stdout",
     "output_type": "stream",
     "text": [
      "Label names:  ['Walking' 'Inactive' 'Active' 'Driving']\n",
      "Features: 90\n",
      "Examples: 499276\n"
     ]
    }
   ],
   "source": [
    "print(\"Label names: \",df['activity'].unique())\n",
    "\n",
    "# label_encoder object knows how to understand word labels.   - NOT NECESSARY\n",
    "#label_encoder = preprocessing.LabelEncoder()\n",
    "# Encode labels in column 'species'.\n",
    "#df['activity']= label_encoder.fit_transform(df['activity'])\n",
    " \n",
    "y=df.values[:,-1]\n",
    "#Y = np.array(y).astype(int)\n",
    "#print(y)\n",
    "\n",
    "X=df.values[:,0:-2]\n",
    "print(f\"Features: {len(X[0])}\")\n",
    "print(f\"Examples: {len(X)}\")"
   ]
  },
  {
   "cell_type": "code",
   "execution_count": 6,
   "id": "2f56cad9",
   "metadata": {},
   "outputs": [
    {
     "data": {
      "image/png": "[encoded data removed]",
      "text/plain": [
       "<Figure size 1440x720 with 1 Axes>"
      ]
     },
     "metadata": {},
     "output_type": "display_data"
    }
   ],
   "source": [
    "labels = np.unique(y)\n",
    "#print(labels)\n",
    "quantity = [np.sum(y == label) for label in labels]\n",
    "#print(quantity)\n",
    "#print(sum(quantity))\n",
    "\n",
    "# Creating plot \n",
    "fig = plt.figure(figsize =(20, 10)) \n",
    "plt.pie(quantity, labels=labels) \n",
    "  \n",
    "# show plot \n",
    "plt.show()"
   ]
  },
  {
   "cell_type": "code",
   "execution_count": 5,
   "id": "f1ccf85e",
   "metadata": {},
   "outputs": [
    {
     "data": {
      "text/plain": [
       "\"\\n#Creating the window with 10 subplots.\\nplt.rcParams.update({'font.size': 8})\\nfig, axes = plt.subplots(nrows=4, ncols=3, figsize=(7,10))\\naxes = axes.ravel()\\n#Creating histograms with 50 bins\\nfor idx,ax in enumerate(axes):\\n    ax.figure\\n    binwidth= (max(df[feature_list[idx]]) - min(df[feature_list[idx]]))/40\\n    ax.hist([dfW[feature_list[idx]],dfI[feature_list[idx]],dfA[feature_list[idx]],dfD[feature_list[idx]]], bins=np.arange(min(df[feature_list[idx]]), max(df[feature_list[idx]]) + binwidth, binwidth) , alpha=0.8,stacked=True, density= True, label=['W','I','A','D'],color=['b','g','orange','r'])\\n    ax.legend(loc='upper right')\\n    ax.set_title(feature_list[idx])\\nplt.tight_layout()\\nplt.show()\""
      ]
     },
     "execution_count": 5,
     "metadata": {},
     "output_type": "execute_result"
    }
   ],
   "source": [
    "# fOR VISUALIZATION TESTS\n",
    "\n",
    "# Separating the data \n",
    "dfW=df[df['activity'] == \"Walking\"]\n",
    "dfA=df[df['activity'] == \"Active\"]\n",
    "dfI=df[df['activity'] == \"Inactive\"]\n",
    "dfD=df[df['activity'] == \"Driving\"]\n",
    "\"\"\"\n",
    "#Creating the window with 10 subplots.\n",
    "plt.rcParams.update({'font.size': 8})\n",
    "fig, axes = plt.subplots(nrows=4, ncols=3, figsize=(7,10))\n",
    "axes = axes.ravel()\n",
    "#Creating histograms with 50 bins\n",
    "for idx,ax in enumerate(axes):\n",
    "    ax.figure\n",
    "    binwidth= (max(df[feature_list[idx]]) - min(df[feature_list[idx]]))/40\n",
    "    ax.hist([dfW[feature_list[idx]],dfI[feature_list[idx]],dfA[feature_list[idx]],dfD[feature_list[idx]]], bins=np.arange(min(df[feature_list[idx]]), max(df[feature_list[idx]]) + binwidth, binwidth) , alpha=0.8,stacked=True, density= True, label=['W','I','A','D'],color=['b','g','orange','r'])\n",
    "    ax.legend(loc='upper right')\n",
    "    ax.set_title(feature_list[idx])\n",
    "plt.tight_layout()\n",
    "plt.show()\"\"\""
   ]
  },
  {
   "cell_type": "code",
   "execution_count": 8,
   "id": "eb2b0b34",
   "metadata": {},
   "outputs": [],
   "source": [
    "# Anova selection - GET BEST FEATURES\n",
    "\n",
    "def get_best_x_features(X, y, num_features=40):\n",
    "    #df = (df - np.min(df))/(np.max(df) - np.min(df))\n",
    "    \n",
    "    k_bestfeatures = SelectKBest(score_func = f_classif, k=num_features)\n",
    "    k_bestfeatures.fit(X, y)\n",
    "    \n",
    "    # what are scores for the features\n",
    "    #for i in range(len(rankings.scores_)):\n",
    "        #print('Feature %d: %f' % (i, rankings.scores_[i]))\n",
    "    \n",
    "    # transform train input data\n",
    "    X_best = k_bestfeatures.transform(X)\n",
    "    return X_best\n",
    "        "
   ]
  },
  {
   "cell_type": "code",
   "execution_count": 9,
   "id": "accca8dd",
   "metadata": {},
   "outputs": [
    {
     "name": "stdout",
     "output_type": "stream",
     "text": [
      "Features: 10\n",
      "Examples: 499276\n"
     ]
    }
   ],
   "source": [
    "X_best = get_best_x_features(X,y,10)\n",
    "print(f\"Features: {len(X_best[0])}\")\n",
    "print(f\"Examples: {len(X_best)}\")"
   ]
  },
  {
   "cell_type": "markdown",
   "id": "7ebfb9de",
   "metadata": {},
   "source": [
    "## Train-Test Split"
   ]
  },
  {
   "cell_type": "markdown",
   "id": "70189039",
   "metadata": {},
   "source": [
    "#### Extract X and y in order to test the models later"
   ]
  },
  {
   "cell_type": "code",
   "execution_count": 10,
   "id": "cc0143ae",
   "metadata": {},
   "outputs": [
    {
     "name": "stdout",
     "output_type": "stream",
     "text": [
      "Examples to train: 249638\n"
     ]
    }
   ],
   "source": [
    "X_temp, X_test, y_temp, y_test = train_test_split(X_best, y, test_size=0.5,random_state=109) # 50% training and 50% test\n",
    "print(\"Examples to train: {}\".format(len(X_temp)))"
   ]
  },
  {
   "cell_type": "markdown",
   "id": "ab431cb0",
   "metadata": {},
   "source": [
    "# Models Evaluation\n",
    "\n",
    "#### Large Dataset - Holdout method, not Cross validation\n",
    "#### We use the f-score metric to evaluate de model considering that our dataset is unbalanced, so accuracy is not recommended."
   ]
  },
  {
   "cell_type": "code",
   "execution_count": 11,
   "id": "6a1afc99",
   "metadata": {},
   "outputs": [
    {
     "name": "stdout",
     "output_type": "stream",
     "text": [
      "Examples to train: 149782\n"
     ]
    }
   ],
   "source": [
    "# Split train dataset - Train and Validation sets\n",
    "X_train, X_valid, y_train, y_valid = train_test_split(X_temp, y_temp, test_size=0.4,random_state=109) # 60% training and 40% validation\n",
    "print(\"Examples to train: {}\".format(len(X_train)))"
   ]
  },
  {
   "cell_type": "markdown",
   "id": "89160031",
   "metadata": {},
   "source": [
    "### Models Functions"
   ]
  },
  {
   "cell_type": "code",
   "execution_count": 12,
   "id": "6f820c5b",
   "metadata": {},
   "outputs": [],
   "source": [
    "#Create a linear svm Classifier\n",
    "def linear_svm(c):\n",
    "    l_svm = svm.SVC(kernel=\"linear\", C=c)\n",
    "    l_svm.fit(X_train, y_train)\n",
    "    y_pred = l_svm.predict(X_valid)\n",
    "    f1 = f1_score(y_valid, y_pred, average='micro')\n",
    "    \n",
    "    return f1\n",
    "    \n",
    "    #return run_kFold(l_svm, X_train, y_train)"
   ]
  },
  {
   "cell_type": "code",
   "execution_count": 13,
   "id": "321500f3",
   "metadata": {},
   "outputs": [],
   "source": [
    "#Create a RBF svm Classifier\n",
    "def rbf_svm(c):\n",
    "    rbf_svm = svm.SVC(C=c,kernel='rbf')\n",
    "    rbf_svm.fit(X_train, y_train)\n",
    "    y_pred = rbf_svm.predict(X_valid)\n",
    "    f1 = f1_score(y_valid, y_pred, average='micro')\n",
    "    \n",
    "    return f1\n",
    "\n",
    "    #return run_kFold(rbf_svm, X_train, y_train)"
   ]
  },
  {
   "cell_type": "code",
   "execution_count": 14,
   "id": "1db40fa0",
   "metadata": {},
   "outputs": [],
   "source": [
    "# K-Nearest Neighbors\n",
    "def knn(n_neigh, metric='euclidean'):\n",
    "    k_n_n = KNeighborsClassifier(n_neighbors=n_neigh, metric=metric)\n",
    "    k_n_n.fit(X_train, y_train)\n",
    "    y_pred = k_n_n.predict(X_valid)\n",
    "    f1 = f1_score(y_valid, y_pred, average='micro')\n",
    "    \n",
    "    return f1\n",
    "\n",
    "    #return run_kFold(k_n_n, X_train, y_train)"
   ]
  },
  {
   "cell_type": "code",
   "execution_count": 15,
   "id": "aa056e69",
   "metadata": {},
   "outputs": [],
   "source": [
    "# Decision Tree\n",
    "def dtree(criterion, max_depth):\n",
    "    clf = tree.DecisionTreeClassifier(criterion=criterion, max_depth=max_depth)\n",
    "    clf.fit(X_train, y_train)\n",
    "    y_pred = clf.predict(X_valid)\n",
    "    f1 = f1_score(y_valid, y_pred, average='micro')\n",
    "    \n",
    "    return f1\n",
    "    #return run_kFold(clf, X_train, y_train)"
   ]
  },
  {
   "cell_type": "code",
   "execution_count": 16,
   "id": "c65e0aaf",
   "metadata": {},
   "outputs": [],
   "source": [
    "# Random Forest\n",
    "def rf(n_estimators, max_depth):\n",
    "    #Create a Gaussian Classifier\n",
    "    r_forest = RandomForestClassifier(n_estimators=n_estimators, max_depth=max_depth)\n",
    "    r_forest.fit(X_train, y_train)\n",
    "    y_pred = r_forest.predict(X_valid)\n",
    "    f1 = f1_score(y_valid, y_pred, average='micro')\n",
    "    \n",
    "    return f1\n",
    "\n",
    "    #return run_kFold(r_forest, X_train, y_train)"
   ]
  },
  {
   "cell_type": "markdown",
   "id": "11f71849",
   "metadata": {},
   "source": [
    "## Training the models with different hyper-parameters"
   ]
  },
  {
   "cell_type": "markdown",
   "id": "056ea57b",
   "metadata": {},
   "source": [
    "### Decision Tree"
   ]
  },
  {
   "cell_type": "code",
   "execution_count": 31,
   "id": "36ce09f7",
   "metadata": {},
   "outputs": [
    {
     "name": "stdout",
     "output_type": "stream",
     "text": [
      "0.7864825348501843\n",
      "0.908097660631309\n",
      "0.9277058964909469\n",
      "0.9448405704214068\n",
      "0.9506289056240987\n",
      "0.9505187469956737\n",
      "0.790017625380548\n",
      "0.9096098381669604\n",
      "0.9273854350264382\n",
      "0.9456417240826791\n",
      "0.9504486460503124\n",
      "0.949677535651338\n",
      "Best:  {'f1': 0.9506289056240987, 'candidates': ('gini', 20)}\n"
     ]
    }
   ],
   "source": [
    "# Define our candidate hyperparameters\n",
    "hp_candidates_dt = {'criterion': ['gini', 'entropy'], 'max_depth': [2,4,8,15,20,25]}\n",
    "\n",
    "best_hp_dt = {'f1':0, 'candidates': (' ',0)}\n",
    "for cri in hp_candidates_dt['criterion']:\n",
    "    for max_ in hp_candidates_dt['max_depth']:\n",
    "        dt_f1 = dtree(cri, max_)\n",
    "        print(dt_f1)\n",
    "        if dt_f1 > best_hp_dt['f1']:\n",
    "            candidates = (cri, max_)\n",
    "            best_hp_dt['f1'] = dt_f1\n",
    "            best_hp_dt['candidates'] = candidates\n",
    "            \n",
    "print(\"Best: \",best_hp_dt)"
   ]
  },
  {
   "cell_type": "markdown",
   "id": "40bc788b",
   "metadata": {},
   "source": [
    "### Random Forest"
   ]
  },
  {
   "cell_type": "code",
   "execution_count": null,
   "id": "ca62ae0d",
   "metadata": {},
   "outputs": [
    {
     "name": "stdout",
     "output_type": "stream",
     "text": [
      "0.911512578112482 10 3\n",
      "0.9385114564973562 10 10\n",
      "0.9620353308764621 10 80\n",
      "0.961754927095017 10 90\n",
      "0.96245593654863 10 110\n",
      "0.9135555199487262 50 3\n",
      "0.9386716872296106 50 10\n",
      "0.9656104790898894 50 80\n",
      "0.9656405223521871 50 90\n",
      "0.9653801474122736 50 110\n",
      "0.9103308764621054 100 3\n",
      "0.9387518025957379 100 10\n",
      "0.9661512578112482 100 80\n"
     ]
    }
   ],
   "source": [
    "# Define our candidate hyperparameters\n",
    "hp_candidates_rf = {'n_estimators': [10, 50, 100, 200], 'max_depth': [3,10,80, 90, 110]}\n",
    "\n",
    "best_hp_rf = {'f1':0, 'candidates': (0,0)}\n",
    "for est in hp_candidates_rf['n_estimators']:\n",
    "    for max_ in hp_candidates_rf['max_depth']:\n",
    "        rf_f1 = rf(est, max_)\n",
    "        print(rf_f1, est,max_)\n",
    "        if rf_f1 > best_hp_rf['f1']:\n",
    "            candidates = (est, max_)\n",
    "            best_hp_rf['f1'] = rf_f1\n",
    "            best_hp_rf['candidates'] = candidates\n",
    "            \n",
    "print(\"Best: \",best_hp_rf)"
   ]
  },
  {
   "cell_type": "markdown",
   "id": "d1fd09ef",
   "metadata": {},
   "source": [
    "### K-Nearest Neighbors"
   ]
  },
  {
   "cell_type": "code",
   "execution_count": 75,
   "id": "61a04c0b",
   "metadata": {},
   "outputs": [
    {
     "name": "stdout",
     "output_type": "stream",
     "text": [
      "Best:  {'f1': 0.9497871779732483, 'candidates': (3, 'manhattan')}\n"
     ]
    }
   ],
   "source": [
    "# Define our candidate hyperparameters\n",
    "hp_candidates_knn = {'n_neighbors': [3,7], 'metrics': ['euclidean', 'manhattan', 'chebyshev', 'minkowski']}\n",
    "\n",
    "best_hp_knn = {'f1':0, 'candidates': (3,' ')}\n",
    "for nei in hp_candidates_knn['n_neighbors']:\n",
    "    for met in hp_candidates_knn['metrics']:\n",
    "        knn_f1 = knn(nei, met)\n",
    "        if knn_f1 > best_hp_knn['f1']:\n",
    "            candidates = (nei, met)\n",
    "            best_hp_knn['f1'] = knn_f1\n",
    "            best_hp_knn['candidates'] = candidates\n",
    "            \n",
    "print(\"Best: \",best_hp_knn)"
   ]
  },
  {
   "cell_type": "markdown",
   "id": "1dc4cfc7",
   "metadata": {},
   "source": [
    "### Linear SVM "
   ]
  },
  {
   "cell_type": "code",
   "execution_count": 18,
   "id": "33bd001a",
   "metadata": {},
   "outputs": [
    {
     "name": "stdout",
     "output_type": "stream",
     "text": [
      "1 Done!\n",
      "1 Done!\n",
      "1 Done!\n",
      "1 Done!\n",
      "0.818947458437815\n",
      "1 Done!\n",
      "1 Done!\n",
      "1 Done!\n",
      "1 Done!\n",
      "0.8323368762021597\n",
      "1 Done!\n",
      "1 Done!\n",
      "1 Done!\n",
      "1 Done!\n",
      "0.8426718659462824\n",
      "1 Done!\n",
      "1 Done!\n",
      "1 Done!\n",
      "1 Done!\n",
      "0.8487106306694587\n",
      "1 Done!\n",
      "1 Done!\n",
      "1 Done!\n",
      "1 Done!\n",
      "0.8534274729965194\n",
      "1 Done!\n",
      "1 Done!\n",
      "1 Done!\n",
      "1 Done!\n",
      "0.8564718894041695\n",
      "Best:  {'f1': 0.8564718894041695, 'C': 3}\n"
     ]
    }
   ],
   "source": [
    "# Define our candidate hyperparameters\n",
    "hp_candidates_linear = {'C': [0.1, 0.3, 1, 3]}\n",
    "\n",
    "best_hp_linear = {'f1':0, 'C': 0.01}\n",
    "for c in hp_candidates_linear['C']:\n",
    "    svm_linear_f1 = linear_svm(c)\n",
    "    print(svm_linear_f1)\n",
    "    if svm_linear_f1 > best_hp_linear['f1']:\n",
    "        best_hp_linear['f1'] = svm_linear_f1\n",
    "        best_hp_linear['C'] = c\n",
    "            \n",
    "print(\"Best: \",best_hp_linear)"
   ]
  },
  {
   "cell_type": "markdown",
   "id": "9d1614e8",
   "metadata": {},
   "source": [
    "### RBF SVM"
   ]
  },
  {
   "cell_type": "code",
   "execution_count": null,
   "id": "f9ff5b2d",
   "metadata": {},
   "outputs": [],
   "source": [
    "# Define our candidate hyperparameters\n",
    "hp_candidates_rbf = {'C': [0.1, 0.3, 1, 3]}\n",
    "\n",
    "best_hp_rbf = {'f1':0, 'C': 0.01}\n",
    "for c in hp_candidates_rbf['C']:\n",
    "    svm_rbf_f1 = rbf_svm(c)\n",
    "    print(svm_rbf_f1)\n",
    "    if svm_rbf_f1 > best_hp_rbf['f1']:\n",
    "        best_hp_rbf['f1'] = svm_rbf_f1\n",
    "        best_hp_rbf['C'] = c\n",
    "            \n",
    "print(\"Best: \",best_hp_rbf)"
   ]
  },
  {
   "cell_type": "markdown",
   "id": "88757745",
   "metadata": {},
   "source": [
    "# Final models comparison\n",
    "\n",
    "#### Create the model with best hyperparameters.\n",
    "#### Trainning set now is trainning + validation (temp set)"
   ]
  },
  {
   "cell_type": "code",
   "execution_count": 20,
   "id": "49264685",
   "metadata": {},
   "outputs": [],
   "source": [
    "def printConfMatrix(cf_matrix,model):\n",
    "    ax = sns.heatmap(cf_matrix, annot=True, cmap='Blues')\n",
    "\n",
    "    ax.set_title('Confusion Matrix - '+model);\n",
    "    ax.set_xlabel('\\nPredicted Values')\n",
    "    ax.set_ylabel('Actual Values');\n",
    "\n",
    "    ## Ticket labels - List must be in alphabetical order\n",
    "    ax.xaxis.set_ticklabels(['Active', 'Driving', 'Inactive', 'Walking'])\n",
    "    ax.yaxis.set_ticklabels(['Active', 'Driving', 'Inactive', 'Walking'])\n",
    "\n",
    "    ## Display the visualization of the Confusion Matrix.\n",
    "    plt.show()"
   ]
  },
  {
   "cell_type": "code",
   "execution_count": 21,
   "id": "da00712a",
   "metadata": {},
   "outputs": [],
   "source": [
    "f1_results = {}\n",
    "\n",
    "labels_results = {0:[], 1:[], 2:[], 3: []}  # 0:'Active', 1:'Driving', 2:'Inactive', 3:'Walking'\n",
    "labels_results_2 = {0: [0.9409446334022933, 0.9625251474158862, 0.9619872938422377, 0.78350992], 1: [0.9620332086368708, 0.9759838680352391, 0.9754826444655674, 0.90130257], 2: [0.9831320798785472, 0.9892967358773787, 0.9860812061404528, 0.89000842], 3: [0.9169707805726323, 0.945737788818015, 0.9424106923492702, 0.8435081]}"
   ]
  },
  {
   "cell_type": "code",
   "execution_count": 22,
   "id": "6faa6d83",
   "metadata": {},
   "outputs": [
    {
     "name": "stdout",
     "output_type": "stream",
     "text": [
      "Model created!\n",
      "Prediction done!\n",
      "F1 Score:  [0.94084843 0.96196633 0.98322571 0.91670446]\n",
      "{0: [0.9408484254037202], 1: [0.961966330850261], 2: [0.9832257099870105], 3: [0.9167044632678328]}\n"
     ]
    }
   ],
   "source": [
    "#Decision Tree\n",
    "final_dt = tree.DecisionTreeClassifier(criterion='gini', max_depth=20)\n",
    "final_dt.fit(X_temp, y_temp)\n",
    "print(\"Model created!\")\n",
    "y_pred = final_dt.predict(X_test)\n",
    "print(\"Prediction done!\")\n",
    "\n",
    "cm_dt = confusion_matrix(y_test, y_pred)\n",
    "f1_dt = f1_score(y_test, y_pred, average=None)\n",
    "f1_dt_micro = f1_score(y_test, y_pred, average='micro')\n",
    "for i in range(len(labels_results)):\n",
    "    labels_results[i].append(f1_dt[i])\n",
    "\n",
    "f1_results[\"dt\"] = f1_dt\n",
    "print(\"F1 Score: \",f1_dt)\n",
    "print(labels_results)"
   ]
  },
  {
   "cell_type": "code",
   "execution_count": 23,
   "id": "45112a81",
   "metadata": {},
   "outputs": [
    {
     "name": "stdout",
     "output_type": "stream",
     "text": [
      "Model created!\n",
      "Prediction done!\n",
      "F1 Score:  [0.96246567 0.9755783  0.98928661 0.94566289]\n"
     ]
    }
   ],
   "source": [
    "#Random Forest\n",
    "final_r_forest = RandomForestClassifier(n_estimators=200, max_depth=80)\n",
    "final_r_forest.fit(X_temp, y_temp)\n",
    "print(\"Model created!\")\n",
    "y_pred = final_r_forest.predict(X_test)\n",
    "print(\"Prediction done!\")\n",
    "\n",
    "cm_rf = confusion_matrix(y_test, y_pred)\n",
    "f1_rf = f1_score(y_test, y_pred, average=None)\n",
    "f1_rf_micro = f1_score(y_test, y_pred, average='micro')\n",
    "for i in range(len(labels_results)):\n",
    "    labels_results[i].append(f1_rf[i])\n",
    "\n",
    "f1_results[\"rf\"] = f1_rf\n",
    "print(\"F1 Score: \",f1_rf)"
   ]
  },
  {
   "cell_type": "code",
   "execution_count": 24,
   "id": "90c9c038",
   "metadata": {},
   "outputs": [
    {
     "name": "stdout",
     "output_type": "stream",
     "text": [
      "Model created!\n",
      "Prediction done!\n",
      "F1 Score:  [0.96198729 0.97548264 0.98608121 0.94241069]\n",
      "{0: [0.9408484254037202, 0.9624656698199574, 0.9619872938422377], 1: [0.961966330850261, 0.9755782999057524, 0.9754826444655674], 2: [0.9832257099870105, 0.9892866133949967, 0.9860812061404528], 3: [0.9167044632678328, 0.9456628927363284, 0.9424106923492702]}\n"
     ]
    }
   ],
   "source": [
    "#KNN\n",
    "final_knn = KNeighborsClassifier(n_neighbors=3, metric='manhattan')\n",
    "final_knn.fit(X_temp, y_temp)\n",
    "print(\"Model created!\")\n",
    "y_pred = final_knn.predict(X_test)\n",
    "print(\"Prediction done!\")\n",
    "cm_knn = confusion_matrix(y_test, y_pred)\n",
    "\n",
    "f1_knn = f1_score(y_test, y_pred, average=None)\n",
    "f1_knn_micro = f1_score(y_test, y_pred, average='micro')\n",
    "for i in range(len(labels_results)):\n",
    "    labels_results[i].append(f1_knn[i])\n",
    "    \n",
    "f1_results[\"knn\"] = f1_knn\n",
    "print(\"F1 Score: \",f1_knn)\n",
    "print(labels_results)"
   ]
  },
  {
   "cell_type": "code",
   "execution_count": 25,
   "id": "4518cde5",
   "metadata": {},
   "outputs": [
    {
     "name": "stdout",
     "output_type": "stream",
     "text": [
      "Model created!\n",
      "Prediction done!\n",
      "F1 Score:  [0.80181748 0.9052419  0.89887178 0.84579888]\n"
     ]
    }
   ],
   "source": [
    "#RBF SVM\n",
    "final_svm = svm.SVC(C=3,kernel='rbf')\n",
    "final_svm.fit(X_temp, y_temp)\n",
    "print(\"Model created!\")\n",
    "y_pred = final_svm.predict(X_test)\n",
    "print(\"Prediction done!\")\n",
    "\n",
    "cm_svm = confusion_matrix(y_test, y_pred)\n",
    "f1_svm = f1_score(y_test, y_pred, average=None)\n",
    "f1_svm_micro = f1_score(y_test, y_pred, average='micro')\n",
    "for i in range(len(labels_results)):\n",
    "    labels_results[i].append(f1_svm[i])\n",
    "    \n",
    "f1_results[\"svm\"] = f1_svm\n",
    "print(\"F1 Score: \",f1_svm)"
   ]
  },
  {
   "cell_type": "code",
   "execution_count": 26,
   "id": "e4874c64",
   "metadata": {},
   "outputs": [
    {
     "data": {
      "image/png": "[encoded data removed]",
      "text/plain": [
       "<Figure size 432x288 with 2 Axes>"
      ]
     },
     "metadata": {
      "needs_background": "light"
     },
     "output_type": "display_data"
    },
    {
     "data": {
      "image/png": "[encoded data removed]",
      "text/plain": [
       "<Figure size 432x288 with 2 Axes>"
      ]
     },
     "metadata": {
      "needs_background": "light"
     },
     "output_type": "display_data"
    },
    {
     "data": {
      "image/png": "[encoded data removed]",
      "text/plain": [
       "<Figure size 432x288 with 2 Axes>"
      ]
     },
     "metadata": {
      "needs_background": "light"
     },
     "output_type": "display_data"
    },
    {
     "data": {
      "image/png": "[encoded data removed]",
      "text/plain": [
       "<Figure size 432x288 with 2 Axes>"
      ]
     },
     "metadata": {
      "needs_background": "light"
     },
     "output_type": "display_data"
    }
   ],
   "source": [
    "# Confusion Matrixes\n",
    "printConfMatrix(cm_dt, \"Decision Tree\")\n",
    "printConfMatrix(cm_rf, \"Random Forest\")\n",
    "printConfMatrix(cm_knn, \"KNN\")\n",
    "printConfMatrix(cm_svm, \"RBF SVM\")"
   ]
  },
  {
   "cell_type": "code",
   "execution_count": 28,
   "id": "5c23b632",
   "metadata": {},
   "outputs": [
    {
     "data": {
      "image/png": "[encoded data removed]",
      "text/plain": [
       "<Figure size 720x360 with 1 Axes>"
      ]
     },
     "metadata": {
      "needs_background": "light"
     },
     "output_type": "display_data"
    }
   ],
   "source": [
    "# Compare f1 scores - avg = \"micro\" is best for unbalanced datasets\n",
    "\n",
    "values = [f1_dt_micro, f1_rf_micro, f1_knn_micro, f1_svm_micro]\n",
    "models = [\"Decision Tree\", \"Random Forest\", \"KNN\", \"SVM\"]\n",
    "\n",
    "fig = plt.figure(figsize = (10, 5))\n",
    "#  Bar plot\n",
    "plt.bar(models, values, color ='blue',\n",
    "        width = 0.5)\n",
    "plt.xlabel(\"Models\")\n",
    "plt.ylabel(\"F1 Score\")\n",
    "plt.title(\"F1 scores comparison\")\n",
    "plt.ylim(0.7,1)\n",
    "plt.show()"
   ]
  },
  {
   "cell_type": "code",
   "execution_count": 30,
   "id": "b16177f4",
   "metadata": {},
   "outputs": [
    {
     "data": {
      "text/plain": [
       "Text(0, 0.5, 'F1 Score')"
      ]
     },
     "execution_count": 30,
     "metadata": {},
     "output_type": "execute_result"
    },
    {
     "data": {
      "image/png": "[encoded data removed]",
      "text/plain": [
       "<Figure size 1080x576 with 1 Axes>"
      ]
     },
     "metadata": {
      "needs_background": "light"
     },
     "output_type": "display_data"
    }
   ],
   "source": [
    "# Compare f1 scores - avg = None\n",
    "\n",
    "plotdata = pd.DataFrame({\n",
    "\n",
    "    \"Active\":labels_results[0],\n",
    "\n",
    "    \"Driving\":labels_results[1],\n",
    "    \n",
    "    \"Inactive\":labels_results[2],\n",
    "\n",
    "    \"Walking\":labels_results[3]},\n",
    "\n",
    "    index=[\"DT\", \"RF\", \"KNN\", \"SVM\"])\n",
    "\n",
    "plotdata.plot(kind=\"bar\",figsize=(15, 8))\n",
    "\n",
    "plt.title(\"F1 scores comparison\")\n",
    "\n",
    "plt.xlabel(\"Model\")\n",
    "plt.ylim(0.7,1)\n",
    "plt.ylabel(\"F1 Score\")"
   ]
  },
  {
   "cell_type": "code",
   "execution_count": null,
   "id": "3eaf4bf5",
   "metadata": {},
   "outputs": [],
   "source": []
  }
 ],
 "metadata": {
  "kernelspec": {
   "display_name": "Python 3",
   "language": "python",
   "name": "python3"
  },
  "language_info": {
   "codemirror_mode": {
    "name": "ipython",
    "version": 3
   },
   "file_extension": ".py",
   "mimetype": "text/x-python",
   "name": "python",
   "nbconvert_exporter": "python",
   "pygments_lexer": "ipython3",
   "version": "3.8.8"
  }
 },
 "nbformat": 4,
 "nbformat_minor": 5
}
