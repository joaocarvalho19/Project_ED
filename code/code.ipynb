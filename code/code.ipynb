{
 "cells": [
  {
   "cell_type": "code",
   "execution_count": 1,
   "id": "ca828e00",
   "metadata": {},
   "outputs": [],
   "source": [
    "#numeric: pandas and numpy\n",
    "import numpy as np\n",
    "import pandas as pd\n",
    "# graphics\n",
    "%matplotlib inline \n",
    "\n",
    "import matplotlib.pyplot as plt \n",
    "import matplotlib.gridspec as gridspec \n",
    "\n",
    "from sklearn import linear_model, svm, preprocessing, tree\n",
    "from sklearn.preprocessing import StandardScaler\n",
    "from sklearn.model_selection import train_test_split\n",
    "from sklearn.neighbors import KNeighborsClassifier\n",
    "from sklearn.feature_selection import SelectKBest, f_classif\n",
    "from sklearn.model_selection import StratifiedKFold\n",
    "from sklearn.metrics import accuracy_score, confusion_matrix, plot_confusion_matrix"
   ]
  },
  {
   "cell_type": "code",
   "execution_count": 2,
   "id": "8669676e",
   "metadata": {},
   "outputs": [
    {
     "name": "stdout",
     "output_type": "stream",
     "text": [
      "90\n"
     ]
    }
   ],
   "source": [
    "df = pd.read_csv('data/sensoringData_feature_prepared_20_19.0_2.csv',header = 0)\n",
    "\n",
    "# id is useless\n",
    "df.drop('id',axis=1,inplace=True)\n",
    "df.drop('user',axis=1,inplace=True)\n",
    "df.drop('timestamp',axis=1,inplace=True)\n",
    "\n",
    "feature_list = list(df.columns[:-2])\n",
    "print(len(feature_list))\n",
    "#print(df.head())\n",
    "\n",
    "# print the number of missing \n",
    "#df.isnull().sum()"
   ]
  },
  {
   "cell_type": "code",
   "execution_count": 3,
   "id": "9c5d8ec2",
   "metadata": {},
   "outputs": [
    {
     "name": "stdout",
     "output_type": "stream",
     "text": [
      "['Walking' 'Inactive' 'Active' 'Driving']\n",
      "[3 2 0 1]\n",
      "Features: 90\n",
      "Examples: 499276\n"
     ]
    }
   ],
   "source": [
    "print(df['activity'].unique())\n",
    "\n",
    "# label_encoder object knows how to understand word labels.\n",
    "label_encoder = preprocessing.LabelEncoder()\n",
    "# Encode labels in column 'species'.\n",
    "df['activity']= label_encoder.fit_transform(df['activity'])\n",
    " \n",
    "print(df['activity'].unique())\n",
    "\n",
    "y=df.values[:,-1]\n",
    "#Y = np.array(y).astype(int)\n",
    "#print(y)\n",
    "\n",
    "X=df.values[:,0:-2]\n",
    "print(f\"Features: {len(X[0])}\")\n",
    "print(f\"Examples: {len(X)}\")"
   ]
  },
  {
   "cell_type": "code",
   "execution_count": 4,
   "id": "2f56cad9",
   "metadata": {},
   "outputs": [
    {
     "data": {
      "text/plain": [
       "<Figure size 1440x720 with 0 Axes>"
      ]
     },
     "metadata": {},
     "output_type": "display_data"
    }
   ],
   "source": [
    "labels = np.unique(y)\n",
    "#print(labels)\n",
    "quantity = [np.sum(y == label) for label in labels]\n",
    "#print(quantity)\n",
    "#print(sum(quantity))\n",
    "\n",
    "# Creating plot \n",
    "fig = plt.figure(figsize =(20, 10)) \n",
    "#plt.pie(quantity, labels=labels) \n",
    "  \n",
    "# show plot \n",
    "#plt.show()"
   ]
  },
  {
   "cell_type": "code",
   "execution_count": 5,
   "id": "f1ccf85e",
   "metadata": {},
   "outputs": [
    {
     "data": {
      "text/plain": [
       "\"\\n#Creating the window with 10 subplots.\\nplt.rcParams.update({'font.size': 8})\\nfig, axes = plt.subplots(nrows=4, ncols=3, figsize=(7,10))\\naxes = axes.ravel()\\n#Creating histograms with 50 bins\\nfor idx,ax in enumerate(axes):\\n    ax.figure\\n    binwidth= (max(df[feature_list[idx]]) - min(df[feature_list[idx]]))/40\\n    ax.hist([dfW[feature_list[idx]],dfI[feature_list[idx]],dfA[feature_list[idx]],dfD[feature_list[idx]]], bins=np.arange(min(df[feature_list[idx]]), max(df[feature_list[idx]]) + binwidth, binwidth) , alpha=0.8,stacked=True, density= True, label=['W','I','A','D'],color=['b','g','orange','r'])\\n    ax.legend(loc='upper right')\\n    ax.set_title(feature_list[idx])\\nplt.tight_layout()\\nplt.show()\""
      ]
     },
     "execution_count": 5,
     "metadata": {},
     "output_type": "execute_result"
    }
   ],
   "source": [
    "# Separating the data \n",
    "dfW=df[df['activity'] == \"Walking\"]\n",
    "dfA=df[df['activity'] == \"Active\"]\n",
    "dfI=df[df['activity'] == \"Inactive\"]\n",
    "dfD=df[df['activity'] == \"Driving\"]\n",
    "\"\"\"\n",
    "#Creating the window with 10 subplots.\n",
    "plt.rcParams.update({'font.size': 8})\n",
    "fig, axes = plt.subplots(nrows=4, ncols=3, figsize=(7,10))\n",
    "axes = axes.ravel()\n",
    "#Creating histograms with 50 bins\n",
    "for idx,ax in enumerate(axes):\n",
    "    ax.figure\n",
    "    binwidth= (max(df[feature_list[idx]]) - min(df[feature_list[idx]]))/40\n",
    "    ax.hist([dfW[feature_list[idx]],dfI[feature_list[idx]],dfA[feature_list[idx]],dfD[feature_list[idx]]], bins=np.arange(min(df[feature_list[idx]]), max(df[feature_list[idx]]) + binwidth, binwidth) , alpha=0.8,stacked=True, density= True, label=['W','I','A','D'],color=['b','g','orange','r'])\n",
    "    ax.legend(loc='upper right')\n",
    "    ax.set_title(feature_list[idx])\n",
    "plt.tight_layout()\n",
    "plt.show()\"\"\""
   ]
  },
  {
   "cell_type": "code",
   "execution_count": 6,
   "id": "eb2b0b34",
   "metadata": {},
   "outputs": [],
   "source": [
    "# Anova selection\n",
    "\n",
    "def get_best_x_features(X, y, num_features=50):\n",
    "    #df = (df - np.min(df))/(np.max(df) - np.min(df))\n",
    "    \n",
    "    k_bestfeatures = SelectKBest(score_func = f_classif, k=num_features)\n",
    "    k_bestfeatures.fit(X, y)\n",
    "    \n",
    "    # what are scores for the features\n",
    "    #for i in range(len(rankings.scores_)):\n",
    "        #print('Feature %d: %f' % (i, rankings.scores_[i]))\n",
    "    \n",
    "    # transform train input data\n",
    "    X_best = k_bestfeatures.transform(X)\n",
    "    return X_best\n",
    "        "
   ]
  },
  {
   "cell_type": "code",
   "execution_count": 7,
   "id": "accca8dd",
   "metadata": {},
   "outputs": [
    {
     "name": "stdout",
     "output_type": "stream",
     "text": [
      "Features: 30\n",
      "Examples: 499276\n"
     ]
    }
   ],
   "source": [
    "X_best = get_best_x_features(X,y,30)\n",
    "print(f\"Features: {len(X_best[0])}\")\n",
    "print(f\"Examples: {len(X_best)}\")"
   ]
  },
  {
   "cell_type": "markdown",
   "id": "ab431cb0",
   "metadata": {},
   "source": [
    "# Training"
   ]
  },
  {
   "cell_type": "markdown",
   "id": "7ebfb9de",
   "metadata": {},
   "source": [
    "### Train_test_split"
   ]
  },
  {
   "cell_type": "code",
   "execution_count": 7,
   "id": "cc0143ae",
   "metadata": {},
   "outputs": [
    {
     "name": "stdout",
     "output_type": "stream",
     "text": [
      "[1. 3. 0. ... 0. 3. 0.]\n"
     ]
    }
   ],
   "source": [
    "X_train, X_test, y_train, y_test = train_test_split(X_50, y, test_size=0.3,random_state=109) # 70% training and 30% test"
   ]
  },
  {
   "cell_type": "markdown",
   "id": "91ccea8d",
   "metadata": {},
   "source": [
    "### StratifiedKFold"
   ]
  },
  {
   "cell_type": "code",
   "execution_count": 8,
   "id": "9d1e7c06",
   "metadata": {},
   "outputs": [],
   "source": [
    "k_fold = StratifiedKFold(n_splits=4)"
   ]
  },
  {
   "cell_type": "code",
   "execution_count": 9,
   "id": "944126da",
   "metadata": {},
   "outputs": [],
   "source": [
    "def run_kFold(model, X, y):\n",
    "    acc_results = []\n",
    "    for train_indices, test_indices in k_fold.split(X,y):\n",
    "        print(\"Train: \",train_indices.shape[0])\n",
    "        print(\"test: \",test_indices.shape[0])\n",
    "        scaler = StandardScaler()\n",
    "        \n",
    "        X_train = X[train_indices]\n",
    "        y_train = y[train_indices]\n",
    "        Xs=scaler.fit_transform(X_train)\n",
    "\n",
    "        X_test = scaler.transform(X[test_indices])\n",
    "        y_test = y[test_indices]\n",
    "        \n",
    "        #Train the model\n",
    "        model.fit(Xs,y[train_indices])\n",
    "        #Predict the response for test dataset\n",
    "        y_pred=model.predict(X_test)\n",
    "        \n",
    "        acc = accuracy_score(y_test, y_pred)\n",
    "        acc_results.append(acc)\n",
    "        \n",
    "    return np.mean(acc_results)\n",
    "    "
   ]
  },
  {
   "cell_type": "markdown",
   "id": "89160031",
   "metadata": {},
   "source": [
    "## Models Functions"
   ]
  },
  {
   "cell_type": "code",
   "execution_count": 10,
   "id": "6f820c5b",
   "metadata": {},
   "outputs": [],
   "source": [
    "#Create a svm Classifier\n",
    "def linear_svm():\n",
    "    lin_clf = svm.SVC(kernel=\"linear\", C=1, gamma=1) # one-vs-all\n",
    "    \n",
    "    return run_kFold(lin_clf, X_best, y)"
   ]
  },
  {
   "cell_type": "code",
   "execution_count": 11,
   "id": "3aa13c37",
   "metadata": {},
   "outputs": [],
   "source": [
    "# Logistic regression\n",
    "def lr(X_train, y_train):\n",
    "    regr = linear_model.LogisticRegression()\n",
    "    \n",
    "    return run_kFold(regr, X_best, y)"
   ]
  },
  {
   "cell_type": "code",
   "execution_count": 12,
   "id": "1db40fa0",
   "metadata": {},
   "outputs": [],
   "source": [
    "# K-Nearest Neighbors\n",
    "def knn():\n",
    "    k_n_n = KNeighborsClassifier(n_neighbors=3)\n",
    "\n",
    "    return run_kFold(k_n_n, X_best, y)"
   ]
  },
  {
   "cell_type": "code",
   "execution_count": 13,
   "id": "aa056e69",
   "metadata": {},
   "outputs": [],
   "source": [
    "# Decision Tree\n",
    "def dtree():\n",
    "    clf = tree.DecisionTreeClassifier()\n",
    "    \n",
    "    return run_kFold(clf, X_best, y)"
   ]
  },
  {
   "cell_type": "code",
   "execution_count": 14,
   "id": "c65e0aaf",
   "metadata": {},
   "outputs": [],
   "source": [
    "# Random Forest\n",
    "def rf():\n",
    "    #Create a Gaussian Classifier\n",
    "    r_forest = RandomForestClassifier(n_estimators=100)\n",
    "\n",
    "    return run_kFold(r_forest, X_best, y)"
   ]
  },
  {
   "cell_type": "markdown",
   "id": "056ea57b",
   "metadata": {},
   "source": [
    "# Decision Tree"
   ]
  },
  {
   "cell_type": "code",
   "execution_count": 15,
   "id": "36ce09f7",
   "metadata": {},
   "outputs": [
    {
     "name": "stdout",
     "output_type": "stream",
     "text": [
      "Train:  374457\n",
      "test:  124819\n",
      "Train:  374457\n",
      "test:  124819\n",
      "Train:  374457\n",
      "test:  124819\n",
      "Train:  374457\n",
      "test:  124819\n",
      "Accuracy: 0.8260901785785818\n"
     ]
    }
   ],
   "source": [
    "dt_y_pred = dtree()\n",
    "print(\"Accuracy:\",dt_y_pred)"
   ]
  },
  {
   "cell_type": "markdown",
   "id": "40bc788b",
   "metadata": {},
   "source": [
    "# Random Forest"
   ]
  },
  {
   "cell_type": "code",
   "execution_count": null,
   "id": "ca62ae0d",
   "metadata": {},
   "outputs": [],
   "source": [
    "rf_y_pred = rf()\n",
    "print(\"Accuracy:\",rf_y_pred)"
   ]
  },
  {
   "cell_type": "markdown",
   "id": "d1fd09ef",
   "metadata": {},
   "source": [
    "# K-Nearest Neighbors"
   ]
  },
  {
   "cell_type": "code",
   "execution_count": 23,
   "id": "61a04c0b",
   "metadata": {},
   "outputs": [
    {
     "name": "stdout",
     "output_type": "stream",
     "text": [
      "['Inactive' 'Driving' 'Walking' ... 'Walking' 'Driving' 'Inactive']\n",
      "Accuracy: 0.97593852439863\n"
     ]
    }
   ],
   "source": [
    "knn_y_pred = knn(X_train, y_train)\n",
    "print(\"Accuracy:\",knn_y_pred)"
   ]
  },
  {
   "cell_type": "markdown",
   "id": "1dc4cfc7",
   "metadata": {},
   "source": [
    "# Linear SVM "
   ]
  },
  {
   "cell_type": "code",
   "execution_count": null,
   "id": "33bd001a",
   "metadata": {},
   "outputs": [],
   "source": [
    "svm_y_pred = svm()\n",
    "print(\"Accuracy:\",svm_y_pred)"
   ]
  },
  {
   "cell_type": "code",
   "execution_count": null,
   "id": "db4530af",
   "metadata": {},
   "outputs": [],
   "source": [
    "\"\"\"lr_y_pred = lr(X_train, y_train)\n",
    "print(\"Accuracy:\",accuracy_score(y_test, lr_y_pred))\"\"\""
   ]
  },
  {
   "cell_type": "code",
   "execution_count": null,
   "id": "75f13e01",
   "metadata": {},
   "outputs": [],
   "source": []
  }
 ],
 "metadata": {
  "kernelspec": {
   "display_name": "Python 3",
   "language": "python",
   "name": "python3"
  },
  "language_info": {
   "codemirror_mode": {
    "name": "ipython",
    "version": 3
   },
   "file_extension": ".py",
   "mimetype": "text/x-python",
   "name": "python",
   "nbconvert_exporter": "python",
   "pygments_lexer": "ipython3",
   "version": "3.8.8"
  }
 },
 "nbformat": 4,
 "nbformat_minor": 5
}
